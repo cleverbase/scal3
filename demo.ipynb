{
 "cells": [
  {
   "cell_type": "markdown",
   "id": "3865ee95",
   "metadata": {},
   "source": [
    "# SCAL3 demo\n",
    "\n",
    "This demo uses the [Rust prototype](src/README.md) via its foreign function interface (FFI).\n",
    "\n",
    "## Installation\n",
    "\n",
    "Ensure you have compiled the prototype with `cargo build --release`."
   ]
  },
  {
   "cell_type": "code",
   "execution_count": 41,
   "id": "7e18c59c",
   "metadata": {},
   "outputs": [
    {
     "name": "stdout",
     "output_type": "stream",
     "text": [
      "Requirement already satisfied: cbor2 in ./.venv/lib/python3.12/site-packages (5.6.5)\n",
      "Requirement already satisfied: fastecdsa in ./.venv/lib/python3.12/site-packages (3.0.1)\n",
      "Note: you may need to restart the kernel to use updated packages.\n"
     ]
    }
   ],
   "source": [
    "%pip install cbor2 fastecdsa\n",
    "\n",
    "from ctypes import cdll, memmove, string_at\n",
    "from cbor2 import dumps, loads\n",
    "from fastecdsa import keys, curve, ecdsa\n",
    "from fastecdsa.encoding.sec1 import SEC1Encoder\n",
    "from fastecdsa.encoding.util import int_to_bytes\n",
    "import secrets\n",
    "import hmac\n",
    "import hashlib"
   ]
  },
  {
   "cell_type": "code",
   "execution_count": 42,
   "id": "991a3e5b",
   "metadata": {},
   "outputs": [],
   "source": [
    "lib = cdll.LoadLibrary(\"target/release/libscal3.so\")"
   ]
  },
  {
   "cell_type": "markdown",
   "id": "b33248bd",
   "metadata": {},
   "source": [
    "We let Rust allocate a request/response buffer with sufficient bytes."
   ]
  },
  {
   "cell_type": "code",
   "execution_count": 43,
   "id": "2e34a731",
   "metadata": {},
   "outputs": [],
   "source": [
    "size = lib.scal3_buffer_size()\n",
    "buf = lib.scal3_buffer_allocate()"
   ]
  },
  {
   "cell_type": "markdown",
   "id": "98373cef",
   "metadata": {},
   "source": [
    "## Helper functions"
   ]
  },
  {
   "cell_type": "code",
   "execution_count": 44,
   "id": "5ddeec36",
   "metadata": {},
   "outputs": [],
   "source": [
    "def write_request(request):\n",
    "    data = dumps(request)\n",
    "    memmove(buf, data, len(data))\n",
    "def read_response():\n",
    "    return loads(string_at(buf, size))\n",
    "def ecdh(sk, pk):\n",
    "    pk = SEC1Encoder().decode_public_key(pk, curve.P256)\n",
    "    return SEC1Encoder().encode_public_key(sk * pk, compressed=False)[1:33]"
   ]
  },
  {
   "cell_type": "markdown",
   "id": "37f1ff59",
   "metadata": {},
   "source": [
    "## Setup\n",
    "\n",
    "Create a single key pair and a PRF key for the provider. In production, these would be HSM-backed."
   ]
  },
  {
   "cell_type": "code",
   "execution_count": 45,
   "id": "86b304de",
   "metadata": {},
   "outputs": [],
   "source": [
    "\n",
    "sk_provider, pk_provider = keys.gen_keypair(curve.P256)\n",
    "pk_provider = SEC1Encoder.encode_public_key(pk_provider)\n",
    "k_provider = secrets.token_bytes(32)"
   ]
  },
  {
   "cell_type": "markdown",
   "id": "663b2a06",
   "metadata": {},
   "source": [
    "## Enrolment\n",
    "\n",
    "The subscriber creates a possession key pair and a PRF key. In production, these would be backed by mobile secure hardware."
   ]
  },
  {
   "cell_type": "code",
   "execution_count": 46,
   "id": "53592b0e",
   "metadata": {},
   "outputs": [],
   "source": [
    "\n",
    "sk_device, pk_device = keys.gen_keypair(curve.P256)\n",
    "pk_device = SEC1Encoder.encode_public_key(pk_device)\n",
    "k_subscriber = secrets.token_bytes(32)"
   ]
  },
  {
   "cell_type": "markdown",
   "id": "e85dcca6",
   "metadata": {},
   "source": [
    "The subscriber creates a registration request. In production, this request would additionally be signed using an (attested) possession public key."
   ]
  },
  {
   "cell_type": "code",
   "execution_count": 47,
   "id": "dbc9d676",
   "metadata": {},
   "outputs": [],
   "source": [
    "write_request({\n",
    "    'mask': hmac.digest(k_subscriber, b\"123456\", hashlib.sha256),\n",
    "    'randomness': secrets.token_bytes(32),\n",
    "    'provider': pk_provider,\n",
    "})\n",
    "status = lib.scal3_subscriber_register(buf)\n",
    "response = read_response()\n",
    "subscriber = response['subscriber']\n",
    "verifier = response['verifier']"
   ]
  },
  {
   "cell_type": "markdown",
   "id": "c4cb011e",
   "metadata": {},
   "source": [
    "Upon processing the registration request, the provider verifies if it is formed in a valid way."
   ]
  },
  {
   "cell_type": "code",
   "execution_count": 48,
   "id": "de1e2ffa",
   "metadata": {},
   "outputs": [],
   "source": [
    "credential = {\n",
    "    'verifier': verifier,\n",
    "    'device': pk_device,\n",
    "}\n",
    "provider_state = credential | {\n",
    "    'provider': pk_provider,\n",
    "    'verifierSecret': ecdh(sk_provider, subscriber),\n",
    "}\n",
    "write_request(provider_state)\n",
    "status = lib.scal3_provider_accept(buf)\n",
    "response = read_response()"
   ]
  },
  {
   "cell_type": "markdown",
   "id": "21d47ebd",
   "metadata": {},
   "source": [
    "## Authentication\n",
    "\n",
    "The provider creates a challenge over some data. The combination is shared with a subscriber."
   ]
  },
  {
   "cell_type": "code",
   "execution_count": 49,
   "id": "4ba335c1",
   "metadata": {},
   "outputs": [],
   "source": [
    "challenge_data = b\"ts=1743930934&nonce=000001\"\n",
    "write_request({\n",
    "    'randomness': hmac.digest(k_provider, challenge_data, hashlib.sha256)\n",
    "})\n",
    "status = lib.scal3_provider_challenge(buf)\n",
    "response = read_response()\n",
    "challenge = response['challenge']"
   ]
  },
  {
   "cell_type": "markdown",
   "id": "798c964f",
   "metadata": {},
   "source": [
    "The subscriber enters their PIN bound to some client data and uses the possession factor to create a signature."
   ]
  },
  {
   "cell_type": "code",
   "execution_count": 50,
   "id": "ef63755c",
   "metadata": {},
   "outputs": [],
   "source": [
    "client_data = b'{\"operation\":\"log-in\",\"session\":\"68c9eeeddfa5fb50\"}'\n",
    "client_data_hash = hashlib.sha256(client_data).digest()\n",
    "write_request(credential | {\n",
    "    'mask': hmac.digest(k_subscriber, b\"123456\", hashlib.sha256),\n",
    "    'randomness': secrets.token_bytes(32),\n",
    "    'provider': pk_provider,\n",
    "    'subscriber': subscriber,\n",
    "    'challenge': challenge,\n",
    "    'hash': client_data_hash,\n",
    "})\n",
    "authentication = lib.scal3_subscriber_authenticate(buf)\n",
    "response = read_response()\n",
    "digest = response['digest']\n",
    "\n",
    "r, s = ecdsa.sign(digest, sk_device, prehashed=True)\n",
    "write_request({ 'proof': int_to_bytes(r, 32) + int_to_bytes(s, 32) })\n",
    "status = lib.scal3_subscriber_pass(authentication, buf)\n",
    "response = read_response()\n",
    "sender = response['sender']\n",
    "pass_attempt = response['pass']"
   ]
  },
  {
   "cell_type": "markdown",
   "id": "6971148c",
   "metadata": {},
   "source": [
    "Upon receiving back the challenge and the authentication attempt data, the provider tries to prove authentication."
   ]
  },
  {
   "cell_type": "code",
   "execution_count": 51,
   "id": "c7975925",
   "metadata": {},
   "outputs": [],
   "source": [
    "write_request(provider_state | {\n",
    "    'randomness': hmac.digest(k_provider, challenge_data, hashlib.sha256),\n",
    "    'hash': client_data_hash,\n",
    "    'passSecret': ecdh(sk_provider, sender),\n",
    "    'pass': pass_attempt\n",
    "})\n",
    "status = lib.scal3_provider_prove(buf)\n",
    "transcript = read_response()"
   ]
  },
  {
   "cell_type": "markdown",
   "id": "586261dd",
   "metadata": {},
   "source": [
    "## Auditing\n",
    "\n",
    "Anyone can verify proven authentication."
   ]
  },
  {
   "cell_type": "code",
   "execution_count": 55,
   "id": "abe7b0d2",
   "metadata": {},
   "outputs": [
    {
     "data": {
      "text/plain": [
       "{'verifier': b'\\xdb)J%\\xcb;W\\x8b<3R`\\x81(\\xfe)Lb\\x89q_\\xe3<\\xa5\\xbe\\xd18\\xfb\\x966\\xd6\\xad\\x02N\\xf01\\x92\\xba\\x93h\\x95m\\x88g\\x0fHM1j\\xbc5p\\x1d\\xc5\\xf6\\xecI\\\\!\\xa9\\xa1\\xf8\\xdb0r\\x03gf\\xf5\\xc8\\n\\x05dn\\x19\\x8e\\x87\\xcf\\xdb\\x00\\xe7= \\xb2\\x00\\xb4\\x87\\x9d\\xed\\x04\\x1ds:\\n}\\x14\\xd5\\xea,\\x11\\xbd,\\xa47Z\\xb32h\\x13DKs\\x8cs1~K\\x16\\n{\\x85\\n\\x02s\\x8c&2\\xc8^\\x17g(\\xe1\\xa2\\x8cV\\xfci\\x83\\x0f\\x96X\\xde\\\\ \\x0eRD\\x8c\\x0f\\xdaa\\xae\\x0b]\\xc2\\x9c\\xce\\x95,\\xb5g:XP/\\x1f\\xbe\\x01\\xdf_\\x03s\\xe4\\r\\xd6\\xb9\\x8e\\x1a\\x1a8\\x05\\xd1\\xd7\\xa7g\\x1e\\x9d{\\x8b\\xbd\\x1e\\xc9WY\\xcd\\x8a`\\xa2@|\\xab\\x84/\\x8c%\\xaa\\xb4\\xa1\\xabBB\\xb8>\\xb3~\\x14\\x0f\\xbd\\x08\\x81\\x16=JN\\x03\\x19\\n\\xd0Y\\xc8\\x12G\\xf7ol\\x91\\xa5Q\\xdc\\xdb\\xac\\x16Ps\\x9c\\x7f.(\\xc8',\n",
       " 'device': b'\\x02\\xd6\\x94\\xcb\\xaf1\\x93\\xb7\\xf7EjG\\xbbv;\\xa5m\\x81\\x9a\\xc2\\xcep\\x81\\x19#\\xccr\\xcf\\xe6\\x1b~\\xd0\\\\',\n",
       " 'authenticator': b\"\\x86?\\x8b'v\\x80\\xafe\\xd08\\xab[7\\x86\\x91\\xdcL$\\xac\\xf4\\xae\\x12\\xe4\\xae\\xd1K\\xa5c\\xa0\\x19\\xb8\\xefRm\\xbf\\xf8Noc<\\xd4\\x02V~|\\x19\\xa3\\xe9\",\n",
       " 'proof': b'\\x97j\\x11&=\\x19\\xd2\\x86\\xf2\\xb4\\xf7\\xc5\\xf3\\xb7\\xc1\\xc3dU\\x9d\\xa71U_\\xda\\xff\\xa4Xc\\x7f\\xb7f\\xb5\\xc4\\x96\\xc4\\xfe\\x9f\\xfa>\\xe2N\\xd0\\x05Wp\\xf4\\xf4vF\\x0cN,\\xe9\\xd1\\xab&\\xec)0\\x0c\\x91\\x89\\xab\\xdd',\n",
       " 'client': b'\\x02\\x1b\\xfc\\x1c\\x80\\xacX\\xbb\\t\\xd7X\\xaf0A\\r\\xe0\\x0c\\xbb\\xd3z\\xca\\xf7\\x02AS\\x9e`\\x9e\\x9f\\xef\\x9a\\xf4\\x96\\x93\\xc2G\\xe1\\x8c_P=\\xec\\x85\\xc0^\\x84\\xf8\\x8c\\xeb\\xdas\\xad\\x9e\\xc0bF\\xce\\xf0\\t \\x94N\\x1d \\x9b\\xf8\\xef\\xddOrFB\\xbe\\x83\\nO\\x8c\\x9f\\x83\\xc0u\\xbe\\x12\\xd5c\\x16\\x12\\xe2\\x10\\xa0\\xf2%\\xd8N\\xc6\\xc6)\\xb4\\xeaA&V\\xccz(o\\xae\\xc6\\xb1Of\\x9f0\\xfb\\xd4\\xbb\\xa8<\\x97\\x02\\xf7\\xbc\\xf3C%s\\xe0\\xc0\\x19',\n",
       " 'hash': b'\\x01\\xe5\\x0cC\\xa3\\xc7\\\\\\x98\\xbf)\\xd6\\xael\\xb2\\x00$\\xcf[\\x0eb\\xea\\x19\\x9b\\x14\\xf6\\xe7m\\x82m\\xba#\\xd1'}"
      ]
     },
     "execution_count": 55,
     "metadata": {},
     "output_type": "execute_result"
    }
   ],
   "source": [
    "evidence = credential | transcript | { 'hash': client_data_hash }\n",
    "evidence"
   ]
  },
  {
   "cell_type": "code",
   "execution_count": null,
   "id": "902e97de",
   "metadata": {},
   "outputs": [],
   "source": [
    "write_request(evidence)\n",
    "status = lib.scal3_verify(buf)\n",
    "response = read_response()\n",
    "\n",
    "assert status == 0\n",
    "assert response['result'] == 'verified'"
   ]
  },
  {
   "cell_type": "markdown",
   "id": "7ce345ce",
   "metadata": {},
   "source": [
    "## Teardown\n",
    "\n",
    "Ensure to free the buffer after using it."
   ]
  },
  {
   "cell_type": "code",
   "execution_count": 53,
   "id": "b6c20d6d",
   "metadata": {},
   "outputs": [
    {
     "data": {
      "text/plain": [
       "0"
      ]
     },
     "execution_count": 53,
     "metadata": {},
     "output_type": "execute_result"
    }
   ],
   "source": [
    "lib.scal3_buffer_free(buf)"
   ]
  }
 ],
 "metadata": {
  "kernelspec": {
   "display_name": ".venv",
   "language": "python",
   "name": "python3"
  },
  "language_info": {
   "codemirror_mode": {
    "name": "ipython",
    "version": 3
   },
   "file_extension": ".py",
   "mimetype": "text/x-python",
   "name": "python",
   "nbconvert_exporter": "python",
   "pygments_lexer": "ipython3",
   "version": "3.12.3"
  }
 },
 "nbformat": 4,
 "nbformat_minor": 5
}
