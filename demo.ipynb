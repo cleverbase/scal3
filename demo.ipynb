{
 "cells": [
  {
   "cell_type": "markdown",
   "id": "3865ee95",
   "metadata": {},
   "source": [
    "# SCAL3 demo\n",
    "\n",
    "This demo uses the [Rust prototype](src/README.md) via its foreign function interface (FFI)."
   ]
  },
  {
   "cell_type": "code",
   "execution_count": 3,
   "id": "7e18c59c",
   "metadata": {},
   "outputs": [
    {
     "name": "stdout",
     "output_type": "stream",
     "text": [
      "Requirement already satisfied: cbor2 in ./.venv/lib/python3.12/site-packages (5.6.5)\n",
      "Requirement already satisfied: fastecdsa in ./.venv/lib/python3.12/site-packages (3.0.1)\n",
      "Note: you may need to restart the kernel to use updated packages.\n"
     ]
    }
   ],
   "source": [
    "%pip install cbor2 fastecdsa\n",
    "\n",
    "from ctypes import cdll, memmove, string_at\n",
    "from cbor2 import dumps, loads, load\n",
    "from fastecdsa import keys, curve, ecdsa\n",
    "from fastecdsa.encoding.sec1 import SEC1Encoder\n",
    "from fastecdsa.encoding.der import DEREncoder\n",
    "from fastecdsa.encoding.util import int_to_bytes\n",
    "import secrets\n",
    "import hmac\n",
    "import hashlib"
   ]
  },
  {
   "cell_type": "code",
   "execution_count": null,
   "id": "991a3e5b",
   "metadata": {},
   "outputs": [
    {
     "data": {
      "text/plain": [
       "0"
      ]
     },
     "execution_count": 2,
     "metadata": {},
     "output_type": "execute_result"
    }
   ],
   "source": [
    "lib = cdll.LoadLibrary(\"target/release/libscal3.so\")\n",
    "size = lib.scal3_buffer_size()\n",
    "buf = lib.scal3_buffer_allocate()\n",
    "\n",
    "def write_request(request):\n",
    "    data = dumps(request)\n",
    "    memmove(buf, data, len(data))\n",
    "def read_response():\n",
    "    return loads(string_at(buf, size))\n",
    "def ecdh(sk, pk):\n",
    "    pk = SEC1Encoder().decode_public_key(pk, curve.P256)\n",
    "    return SEC1Encoder().encode_public_key(sk * pk, compressed=False)[1:33]\n",
    "\n",
    "# Setup\n",
    "\n",
    "sk_provider, pk_provider = keys.gen_keypair(curve.P256)\n",
    "pk_provider = SEC1Encoder.encode_public_key(pk_provider)\n",
    "k_provider = secrets.token_bytes(32)\n",
    "\n",
    "# Enrolment\n",
    "\n",
    "sk_device, pk_device = keys.gen_keypair(curve.P256)\n",
    "pk_device = SEC1Encoder.encode_public_key(pk_device)\n",
    "k_subscriber = secrets.token_bytes(32)\n",
    "\n",
    "subscriber_state = {\n",
    "    'mask': hmac.digest(k_subscriber, b\"123456\", hashlib.sha256),\n",
    "    'randomness': secrets.token_bytes(32),\n",
    "    'provider': pk_provider,\n",
    "}\n",
    "write_request(subscriber_state)\n",
    "status = lib.scal3_subscriber_register(buf)\n",
    "response = read_response()\n",
    "subscriber = response['subscriber']\n",
    "verifier = response['verifier']\n",
    "\n",
    "credential = {\n",
    "    'verifier': verifier,\n",
    "    'device': pk_device,\n",
    "}\n",
    "provider_state = credential | {\n",
    "    'provider': pk_provider,\n",
    "    'verifierSecret': ecdh(sk_provider, subscriber),\n",
    "}\n",
    "write_request(provider_state)\n",
    "status = lib.scal3_provider_accept(buf)\n",
    "response = read_response()\n",
    "\n",
    "# Authentication\n",
    "\n",
    "challenge_data = b\"ts=1743930934&nonce=000001\"\n",
    "write_request({\n",
    "    'randomness': hmac.digest(k_provider, challenge_data, hashlib.sha256)\n",
    "})\n",
    "status = lib.scal3_provider_challenge(buf)\n",
    "response = read_response()\n",
    "challenge = response['challenge']\n",
    "\n",
    "client_data = b'{\"operation\":\"log-in\",\"session\":\"68c9eeeddfa5fb50\"}'\n",
    "client_data_hash = hashlib.sha256(client_data).digest()\n",
    "write_request(subscriber_state | credential | {\n",
    "    'subscriber': subscriber,\n",
    "    'challenge': challenge,\n",
    "    'hash': client_data_hash,\n",
    "})\n",
    "authentication = lib.scal3_subscriber_authenticate(buf)\n",
    "response = read_response()\n",
    "digest = response['digest']\n",
    "\n",
    "r, s = ecdsa.sign(digest, sk_device, prehashed=True)\n",
    "write_request({ 'proof': int_to_bytes(r, 32) + int_to_bytes(s, 32) })\n",
    "status = lib.scal3_subscriber_pass(authentication, buf)\n",
    "response = read_response()\n",
    "sender = response['sender']\n",
    "pass_attempt = response['pass']\n",
    "\n",
    "write_request(provider_state | {\n",
    "    'randomness': hmac.digest(k_provider, challenge_data, hashlib.sha256),\n",
    "    'hash': client_data_hash,\n",
    "    'passSecret': ecdh(sk_provider, sender),\n",
    "    'pass': pass_attempt\n",
    "})\n",
    "status = lib.scal3_provider_prove(buf)\n",
    "transcript = read_response()\n",
    "\n",
    "write_request(credential | transcript | { 'hash': client_data_hash })\n",
    "status = lib.scal3_verify(buf)\n",
    "response = read_response()\n",
    "\n",
    "assert status == 0\n",
    "assert response['result'] == 'verified'\n",
    "\n",
    "lib.scal3_buffer_free(buf)\n"
   ]
  }
 ],
 "metadata": {
  "kernelspec": {
   "display_name": ".venv",
   "language": "python",
   "name": "python3"
  },
  "language_info": {
   "codemirror_mode": {
    "name": "ipython",
    "version": 3
   },
   "file_extension": ".py",
   "mimetype": "text/x-python",
   "name": "python",
   "nbconvert_exporter": "python",
   "pygments_lexer": "ipython3",
   "version": "3.12.3"
  }
 },
 "nbformat": 4,
 "nbformat_minor": 5
}
